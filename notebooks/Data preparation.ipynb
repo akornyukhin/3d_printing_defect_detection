{
 "cells": [
  {
   "cell_type": "code",
   "execution_count": 3,
   "metadata": {
    "ExecuteTime": {
     "end_time": "2019-04-27T02:27:42.197758Z",
     "start_time": "2019-04-27T02:27:41.377925Z"
    }
   },
   "outputs": [],
   "source": [
    "import pandas as pd\n",
    "import numpy as np\n",
    "import matplotlib.pyplot as plt\n",
    "%matplotlib inline\n",
    "\n",
    "import h5py\n",
    "\n",
    "import os\n",
    "from tqdm import tqdm_notebook\n",
    "import cv2"
   ]
  },
  {
   "cell_type": "code",
   "execution_count": 2,
   "metadata": {
    "ExecuteTime": {
     "end_time": "2019-04-26T00:22:38.402180Z",
     "start_time": "2019-04-26T00:22:38.373221Z"
    }
   },
   "outputs": [
    {
     "data": {
      "application/vnd.jupyter.widget-view+json": {
       "model_id": "",
       "version_major": 2,
       "version_minor": 0
      },
      "text/plain": [
       "HBox(children=(IntProgress(value=0, max=126), HTML(value='')))"
      ]
     },
     "metadata": {},
     "output_type": "display_data"
    },
    {
     "name": "stdout",
     "output_type": "stream",
     "text": [
      "\n"
     ]
    }
   ],
   "source": [
    "# defected pict list\n",
    "directory = './data/new_data_y/test_data/defective_pics/'\n",
    "\n",
    "defects = []\n",
    "for file in tqdm_notebook(os.listdir(directory)):\n",
    "    if file.endswith(\".jpg\"):\n",
    "        defects.append(file)"
   ]
  },
  {
   "cell_type": "code",
   "execution_count": 3,
   "metadata": {
    "ExecuteTime": {
     "end_time": "2019-04-26T00:28:27.208726Z",
     "start_time": "2019-04-26T00:22:41.961540Z"
    },
    "scrolled": true
   },
   "outputs": [
    {
     "data": {
      "application/vnd.jupyter.widget-view+json": {
       "model_id": "0865951a566d431e84960ee7f8124dcd",
       "version_major": 2,
       "version_minor": 0
      },
      "text/plain": [
       "HBox(children=(IntProgress(value=0, max=45617), HTML(value='')))"
      ]
     },
     "metadata": {},
     "output_type": "display_data"
    },
    {
     "name": "stdout",
     "output_type": "stream",
     "text": [
      "\n"
     ]
    }
   ],
   "source": [
    "# defected pict list\n",
    "directory = './data/machine_y/'\n",
    "\n",
    "data = []\n",
    "for file in tqdm_notebook(os.listdir(directory)):\n",
    "    if file not in defects:\n",
    "        data.append(file)\n",
    "        os.system(\"mv {0} ./data/new_data_y/non_defects/\".format(directory+file))"
   ]
  },
  {
   "cell_type": "code",
   "execution_count": 8,
   "metadata": {
    "ExecuteTime": {
     "end_time": "2019-04-26T00:29:46.012663Z",
     "start_time": "2019-04-26T00:29:45.989141Z"
    }
   },
   "outputs": [],
   "source": [
    "from sklearn.model_selection import train_test_split\n",
    "x_train ,x_test = train_test_split(data,test_size=0.05)\n"
   ]
  },
  {
   "cell_type": "code",
   "execution_count": 10,
   "metadata": {
    "ExecuteTime": {
     "end_time": "2019-04-26T00:38:45.725705Z",
     "start_time": "2019-04-26T00:31:05.731444Z"
    }
   },
   "outputs": [
    {
     "data": {
      "application/vnd.jupyter.widget-view+json": {
       "model_id": "8d635d36f4444c009f9eebd50be71a1a",
       "version_major": 2,
       "version_minor": 0
      },
      "text/plain": [
       "HBox(children=(IntProgress(value=0, max=45536), HTML(value='')))"
      ]
     },
     "metadata": {},
     "output_type": "display_data"
    },
    {
     "name": "stdout",
     "output_type": "stream",
     "text": [
      "\n"
     ]
    }
   ],
   "source": [
    "# defected pict list\n",
    "directory = './data/new_data_y/non_defects/'\n",
    "\n",
    "for file in tqdm_notebook(os.listdir(directory)):\n",
    "    if file in x_train:\n",
    "        os.system(\"mv {0} ./data/new_data_y/train_data/\".format(directory+file))\n",
    "    else:\n",
    "        os.system(\"mv {0} ./data/new_data_y/test_data/holdout_images\".format(directory+file))"
   ]
  },
  {
   "cell_type": "code",
   "execution_count": 29,
   "metadata": {
    "ExecuteTime": {
     "end_time": "2019-04-27T02:44:01.217569Z",
     "start_time": "2019-04-27T02:42:51.147738Z"
    }
   },
   "outputs": [
    {
     "data": {
      "application/vnd.jupyter.widget-view+json": {
       "model_id": "fc14e3538ef24c0381c0e5b1854e254e",
       "version_major": 2,
       "version_minor": 0
      },
      "text/plain": [
       "HBox(children=(IntProgress(value=0, max=43260), HTML(value='')))"
      ]
     },
     "metadata": {},
     "output_type": "display_data"
    },
    {
     "name": "stderr",
     "output_type": "stream",
     "text": [
      "ERROR:root:Internal Python error in the inspect module.\n",
      "Below is the traceback from this internal error.\n",
      "\n",
      "\n",
      "KeyboardInterrupt\n",
      "\n"
     ]
    }
   ],
   "source": [
    "from tqdm import tqdm_notebook\n",
    "import cv2\n",
    "\n",
    "directory = './data/new_data_y/train_data/'\n",
    "\n",
    "data_y = np.empty((512, 512))\n",
    "\n",
    "for file in tqdm_notebook(os.listdir(directory)):\n",
    "    if file.endswith(\".jpg\"):\n",
    "        img = cv2.imread(directory+file)\n",
    "        gray = cv2.cvtColor(img, cv2.COLOR_BGR2GRAY)\n",
    "        gray_resize_flat = cv2.resize(gray, (512, 512))/255.\n",
    "        gray_resize_flat = np.array(gray_resize_flat)\n",
    "        data_y = np.append(data_y, gray_resize_flat)\n",
    "#         print(file)"
   ]
  },
  {
   "cell_type": "code",
   "execution_count": 4,
   "metadata": {
    "ExecuteTime": {
     "end_time": "2019-04-26T01:57:19.624091Z",
     "start_time": "2019-04-26T01:56:15.145074Z"
    }
   },
   "outputs": [],
   "source": [
    "h5f = h5py.File('./train.h5', 'w')\n",
    "h5f.create_dataset('/train', data=data_y)\n",
    "h5f.close()"
   ]
  },
  {
   "cell_type": "code",
   "execution_count": null,
   "metadata": {},
   "outputs": [],
   "source": []
  }
 ],
 "metadata": {
  "hide_input": false,
  "kernelspec": {
   "display_name": "Python 3",
   "language": "python",
   "name": "python3"
  },
  "language_info": {
   "codemirror_mode": {
    "name": "ipython",
    "version": 3
   },
   "file_extension": ".py",
   "mimetype": "text/x-python",
   "name": "python",
   "nbconvert_exporter": "python",
   "pygments_lexer": "ipython3",
   "version": "3.7.3"
  },
  "toc": {
   "base_numbering": 1,
   "nav_menu": {},
   "number_sections": true,
   "sideBar": true,
   "skip_h1_title": false,
   "title_cell": "Table of Contents",
   "title_sidebar": "Contents",
   "toc_cell": false,
   "toc_position": {},
   "toc_section_display": true,
   "toc_window_display": false
  },
  "varInspector": {
   "cols": {
    "lenName": 16,
    "lenType": 16,
    "lenVar": 40
   },
   "kernels_config": {
    "python": {
     "delete_cmd_postfix": "",
     "delete_cmd_prefix": "del ",
     "library": "var_list.py",
     "varRefreshCmd": "print(var_dic_list())"
    },
    "r": {
     "delete_cmd_postfix": ") ",
     "delete_cmd_prefix": "rm(",
     "library": "var_list.r",
     "varRefreshCmd": "cat(var_dic_list()) "
    }
   },
   "types_to_exclude": [
    "module",
    "function",
    "builtin_function_or_method",
    "instance",
    "_Feature"
   ],
   "window_display": false
  }
 },
 "nbformat": 4,
 "nbformat_minor": 2
}
